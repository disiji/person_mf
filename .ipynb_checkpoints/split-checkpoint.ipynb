{
 "cells": [
  {
   "cell_type": "code",
   "execution_count": null,
   "metadata": {
    "collapsed": false
   },
   "outputs": [],
   "source": [
    "import logging\n",
    "\n",
    "from utils import log_utils as log\n",
    "from utils import file_utils as fu\n",
    "\n",
    "import matplotlib.pyplot as plt\n",
    "%matplotlib inline\n",
    "\n",
    "train, val, test = fu.load_data('tw_oc')\n",
    "I = len(train)"
   ]
  },
  {
   "cell_type": "code",
   "execution_count": null,
   "metadata": {
    "collapsed": false
   },
   "outputs": [],
   "source": [
    "n_data = [int(train.sum(axis=1)[i][0]) for i in range(I)]\n",
    "idx = sorted(range(len(n_data)), key=lambda k: n_data[k])\n",
    "_s = int((len(idx) / 40) + 1)\n",
    "idx_S = idx[0:34*_s]\n",
    "idx_M = idx[34*_s:39*_s]\n",
    "idx_L = idx[39*_s:]"
   ]
  },
  {
   "cell_type": "code",
   "execution_count": null,
   "metadata": {
    "collapsed": false
   },
   "outputs": [],
   "source": [
    "train_S = train[idx_S,:]\n",
    "n_data = [int(train_S.sum(axis=1)[i][0]) for i in range(train_S.shape[0])]\n",
    "plt.hist(n_data,range(0,20))\n",
    "plt.show()"
   ]
  },
  {
   "cell_type": "code",
   "execution_count": null,
   "metadata": {
    "collapsed": false
   },
   "outputs": [],
   "source": [
    "train_M = train[idx_M,:]\n",
    "n_data = [int(train_M.sum(axis=1)[i][0]) for i in range(train_M.shape[0])]\n",
    "plt.hist(n_data,range(0,100))\n",
    "plt.show()"
   ]
  },
  {
   "cell_type": "code",
   "execution_count": null,
   "metadata": {
    "collapsed": false
   },
   "outputs": [],
   "source": [
    "train_L = train[idx_L,:]\n",
    "n_data = [int(train_L.sum(axis=1)[i][0]) for i in range(train_L.shape[0])]\n",
    "plt.hist(n_data)\n",
    "plt.show()"
   ]
  },
  {
   "cell_type": "code",
   "execution_count": null,
   "metadata": {
    "collapsed": false
   },
   "outputs": [],
   "source": [
    "print(train_S.sum(),train_M.sum(),train_L.sum())"
   ]
  },
  {
   "cell_type": "code",
   "execution_count": null,
   "metadata": {
    "collapsed": true
   },
   "outputs": [],
   "source": []
  }
 ],
 "metadata": {
  "kernelspec": {
   "display_name": "Python 3",
   "language": "python",
   "name": "python3"
  },
  "language_info": {
   "codemirror_mode": {
    "name": "ipython",
    "version": 3
   },
   "file_extension": ".py",
   "mimetype": "text/x-python",
   "name": "python",
   "nbconvert_exporter": "python",
   "pygments_lexer": "ipython3",
   "version": "3.5.1"
  }
 },
 "nbformat": 4,
 "nbformat_minor": 0
}
