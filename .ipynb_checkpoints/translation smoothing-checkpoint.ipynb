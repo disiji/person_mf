{
 "cells": [
  {
   "cell_type": "code",
   "execution_count": 1,
   "metadata": {
    "collapsed": false
   },
   "outputs": [
    {
     "name": "stdout",
     "output_type": "stream",
     "text": [
      "2016-08-01 22:46:44,120 INFO --> Mem and popularity learnt from training data; searching alpha on validation set\n",
      "2016-08-01 22:46:44,124 INFO --> Loading all data for area tw_oc\n"
     ]
    }
   ],
   "source": [
    "from utils import file_utils as fu\n",
    "from smooth import method_factory as mf_smoothing\n",
    "import matplotlib.pyplot as plt\n",
    "import numpy as np\n",
    "from pandas import DataFrame\n",
    "\n",
    "area = 'tw_oc'\n",
    "m = 'smoothing'\n",
    "dim = -1# not used here\n",
    "smooth_method = mf_smoothing[m]()\n",
    "\n",
    "train, val, test = fu.load_data(area)\n",
    "I,L = train.shape\n",
    "\n",
    "%matplotlib inline"
   ]
  },
  {
   "cell_type": "code",
   "execution_count": 2,
   "metadata": {
    "collapsed": false
   },
   "outputs": [
    {
     "name": "stdout",
     "output_type": "stream",
     "text": [
      "CPU times: user 4.19 s, sys: 3.5 s, total: 7.69 s\n",
      "Wall time: 10.7 s\n"
     ]
    }
   ],
   "source": [
    "%%time\n",
    "binary = (train>0)*1#I*L\n",
    "count_1d = binary.sum(axis = 0)#1*L\n",
    "count_2d = np.dot(binary.T,binary)#L*L\n",
    "P_1d = count_1d/I # exists zeros\n",
    "P_2d = count_2d/I\n",
    "temp = P_2d/np.outer(P_1d,P_1d)\n",
    "temp[ ~ np.isfinite( temp )]= 1 # zero / zero = zero\n",
    "temp[temp==0]=1 # avoid log_zero\n",
    "PPMI = np.log2(temp)\n",
    "PPMI[PPMI<0] = 0"
   ]
  },
  {
   "cell_type": "code",
   "execution_count": 3,
   "metadata": {
    "collapsed": false
   },
   "outputs": [
    {
     "data": {
      "image/png": "[encoded data removed]",
      "text/plain": [
       "<matplotlib.figure.Figure at 0x105a5dc88>"
      ]
     },
     "metadata": {},
     "output_type": "display_data"
    }
   ],
   "source": [
    "NON_ZEROS = [np.count_nonzero(PPMI[i]) for i in range(L)]\n",
    "plt.boxplot(NON_ZEROS)\n",
    "plt.show()"
   ]
  },
  {
   "cell_type": "code",
   "execution_count": 18,
   "metadata": {
    "collapsed": false
   },
   "outputs": [],
   "source": [
    "k = 50\n",
    "idx = np.array([[j for j in np.asarray(PPMI[i].argsort().T).reshape(-1)[-k:][::-1] \n",
    "                 if PPMI[i,j]>0] for i in range(L)])\n",
    "for u in range(L):\n",
    "    if u not in idx[u]:\n",
    "        idx[u].append(u)"
   ]
  },
  {
   "cell_type": "code",
   "execution_count": 19,
   "metadata": {
    "collapsed": false
   },
   "outputs": [
    {
     "data": {
      "image/png": "[encoded data removed]",
      "text/plain": [
       "<matplotlib.figure.Figure at 0x10d8397f0>"
      ]
     },
     "metadata": {},
     "output_type": "display_data"
    }
   ],
   "source": [
    "plt.hist([len(i) for i in idx])\n",
    "plt.show()"
   ]
  },
  {
   "cell_type": "code",
   "execution_count": 26,
   "metadata": {
    "collapsed": false
   },
   "outputs": [
    {
     "name": "stdout",
     "output_type": "stream",
     "text": [
      "CPU times: user 7min 22s, sys: 4.65 s, total: 7min 26s\n",
      "Wall time: 7min 28s\n"
     ]
    }
   ],
   "source": [
    "%%time\n",
    "# compute mutual information for these indices\n",
    "# need to use dense matrix here\n",
    "binary = (np.array(train.toarray())>0)*1#I*L\n",
    "MI = np.zeros((L,L))\n",
    "from sklearn import metrics\n",
    "for u in range(L):\n",
    "    for w in idx[u]:\n",
    "        MI[u,w] = metrics.mutual_info_score(None, None, \n",
    "                contingency=np.histogram2d(binary[:,u], binary[:,w])[0])"
   ]
  },
  {
   "cell_type": "code",
   "execution_count": 34,
   "metadata": {
    "collapsed": false
   },
   "outputs": [],
   "source": [
    "from utils.helpers import normalize_mat_row, col_vector\n",
    "MI = normalize_mat_row(MI)\n",
    "MI[ ~ np.isfinite( MI )]= 0 # ALL ZEROS IN A ROW"
   ]
  },
  {
   "cell_type": "code",
   "execution_count": 39,
   "metadata": {
    "collapsed": false
   },
   "outputs": [
    {
     "data": {
      "image/png": "[encoded data removed]",
      "text/plain": [
       "<matplotlib.figure.Figure at 0x10e616cc0>"
      ]
     },
     "metadata": {},
     "output_type": "display_data"
    }
   ],
   "source": [
    "plt.imshow(MI, interpolation='nearest')\n",
    "plt.colorbar()\n",
    "plt.show()\n",
    "# very sparse"
   ]
  },
  {
   "cell_type": "code",
   "execution_count": null,
   "metadata": {
    "collapsed": true
   },
   "outputs": [],
   "source": []
  }
 ],
 "metadata": {
  "kernelspec": {
   "display_name": "Python 3",
   "language": "python",
   "name": "python3"
  },
  "language_info": {
   "codemirror_mode": {
    "name": "ipython",
    "version": 3
   },
   "file_extension": ".py",
   "mimetype": "text/x-python",
   "name": "python",
   "nbconvert_exporter": "python",
   "pygments_lexer": "ipython3",
   "version": "3.5.1"
  }
 },
 "nbformat": 4,
 "nbformat_minor": 0
}
